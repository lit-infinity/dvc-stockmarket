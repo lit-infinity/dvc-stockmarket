{
 "cells": [
  {
   "cell_type": "markdown",
   "metadata": {},
   "source": [
    "**PREDICTING STOCK PRICE OF TESLA(THAT IS UPWARD AND DOWNWARD TREND) WITH THE HELP OF STACKED LSTM(SINCE MULTIPLE LAYERS OF LSTM ARE USED).**\n",
    "\n",
    "**HERE FROM MANY DATESETS I HAVE USED DATASET FOR TESLA STOCKS**"
   ]
  },
  {
   "cell_type": "code",
   "execution_count": 4,
   "metadata": {
    "execution": {
     "iopub.execute_input": "2021-07-01T13:36:01.894044Z",
     "iopub.status.busy": "2021-07-01T13:36:01.893653Z",
     "iopub.status.idle": "2021-07-01T13:36:01.900834Z",
     "shell.execute_reply": "2021-07-01T13:36:01.899307Z",
     "shell.execute_reply.started": "2021-07-01T13:36:01.894011Z"
    }
   },
   "outputs": [],
   "source": [
    "#importing libraries\n",
    "import pandas as pd\n",
    "import numpy as np\n",
    "import matplotlib.pyplot as plt\n",
    "from tensorflow import keras"
   ]
  },
  {
   "cell_type": "code",
   "execution_count": 5,
   "metadata": {
    "execution": {
     "iopub.execute_input": "2021-07-01T13:36:01.904170Z",
     "iopub.status.busy": "2021-07-01T13:36:01.903322Z",
     "iopub.status.idle": "2021-07-01T13:36:01.949873Z",
     "shell.execute_reply": "2021-07-01T13:36:01.948648Z",
     "shell.execute_reply.started": "2021-07-01T13:36:01.904099Z"
    }
   },
   "outputs": [
    {
     "data": {
      "text/html": [
       "<div>\n",
       "<style scoped>\n",
       "    .dataframe tbody tr th:only-of-type {\n",
       "        vertical-align: middle;\n",
       "    }\n",
       "\n",
       "    .dataframe tbody tr th {\n",
       "        vertical-align: top;\n",
       "    }\n",
       "\n",
       "    .dataframe thead th {\n",
       "        text-align: right;\n",
       "    }\n",
       "</style>\n",
       "<table border=\"1\" class=\"dataframe\">\n",
       "  <thead>\n",
       "    <tr style=\"text-align: right;\">\n",
       "      <th></th>\n",
       "      <th>Date</th>\n",
       "      <th>Open</th>\n",
       "      <th>High</th>\n",
       "      <th>Low</th>\n",
       "      <th>Close</th>\n",
       "      <th>Volume</th>\n",
       "      <th>OpenInt</th>\n",
       "    </tr>\n",
       "  </thead>\n",
       "  <tbody>\n",
       "    <tr>\n",
       "      <th>0</th>\n",
       "      <td>2010-06-28</td>\n",
       "      <td>17.00</td>\n",
       "      <td>17.00</td>\n",
       "      <td>17.00</td>\n",
       "      <td>17.00</td>\n",
       "      <td>0</td>\n",
       "      <td>0</td>\n",
       "    </tr>\n",
       "    <tr>\n",
       "      <th>1</th>\n",
       "      <td>2010-06-29</td>\n",
       "      <td>19.00</td>\n",
       "      <td>25.00</td>\n",
       "      <td>17.54</td>\n",
       "      <td>23.89</td>\n",
       "      <td>18783276</td>\n",
       "      <td>0</td>\n",
       "    </tr>\n",
       "    <tr>\n",
       "      <th>2</th>\n",
       "      <td>2010-06-30</td>\n",
       "      <td>25.79</td>\n",
       "      <td>30.42</td>\n",
       "      <td>23.30</td>\n",
       "      <td>23.83</td>\n",
       "      <td>17194394</td>\n",
       "      <td>0</td>\n",
       "    </tr>\n",
       "    <tr>\n",
       "      <th>3</th>\n",
       "      <td>2010-07-01</td>\n",
       "      <td>25.00</td>\n",
       "      <td>25.92</td>\n",
       "      <td>20.27</td>\n",
       "      <td>21.96</td>\n",
       "      <td>8229863</td>\n",
       "      <td>0</td>\n",
       "    </tr>\n",
       "    <tr>\n",
       "      <th>4</th>\n",
       "      <td>2010-07-02</td>\n",
       "      <td>23.00</td>\n",
       "      <td>23.10</td>\n",
       "      <td>18.71</td>\n",
       "      <td>19.20</td>\n",
       "      <td>5141807</td>\n",
       "      <td>0</td>\n",
       "    </tr>\n",
       "  </tbody>\n",
       "</table>\n",
       "</div>"
      ],
      "text/plain": [
       "         Date   Open   High    Low  Close    Volume  OpenInt\n",
       "0  2010-06-28  17.00  17.00  17.00  17.00         0        0\n",
       "1  2010-06-29  19.00  25.00  17.54  23.89  18783276        0\n",
       "2  2010-06-30  25.79  30.42  23.30  23.83  17194394        0\n",
       "3  2010-07-01  25.00  25.92  20.27  21.96   8229863        0\n",
       "4  2010-07-02  23.00  23.10  18.71  19.20   5141807        0"
      ]
     },
     "execution_count": 5,
     "metadata": {},
     "output_type": "execute_result"
    }
   ],
   "source": [
    "#importing dataset\n",
    "ds = pd.read_csv(r\"Stocks/tsla.us.txt\")\n",
    "ds.head()"
   ]
  },
  {
   "cell_type": "code",
   "execution_count": 6,
   "metadata": {
    "execution": {
     "iopub.execute_input": "2021-07-01T14:31:14.551365Z",
     "iopub.status.busy": "2021-07-01T14:31:14.551005Z",
     "iopub.status.idle": "2021-07-01T14:31:14.560947Z",
     "shell.execute_reply": "2021-07-01T14:31:14.559703Z",
     "shell.execute_reply.started": "2021-07-01T14:31:14.551333Z"
    }
   },
   "outputs": [
    {
     "data": {
      "text/plain": [
       "(1858, 7)"
      ]
     },
     "execution_count": 6,
     "metadata": {},
     "output_type": "execute_result"
    }
   ],
   "source": [
    "ds.shape"
   ]
  },
  {
   "cell_type": "code",
   "execution_count": 7,
   "metadata": {
    "execution": {
     "iopub.execute_input": "2021-07-01T14:49:45.853291Z",
     "iopub.status.busy": "2021-07-01T14:49:45.852921Z",
     "iopub.status.idle": "2021-07-01T14:49:45.860233Z",
     "shell.execute_reply": "2021-07-01T14:49:45.858836Z",
     "shell.execute_reply.started": "2021-07-01T14:49:45.853259Z"
    }
   },
   "outputs": [],
   "source": [
    "#splitting dataset into test and train dataset\n",
    "train_ds, test_ds = ds[0:int(len(ds)*0.80)],ds[int(len(ds)*0.80):len(ds)]"
   ]
  },
  {
   "cell_type": "code",
   "execution_count": 8,
   "metadata": {
    "execution": {
     "iopub.execute_input": "2021-07-01T13:36:01.977915Z",
     "iopub.status.busy": "2021-07-01T13:36:01.977432Z",
     "iopub.status.idle": "2021-07-01T13:36:01.996135Z",
     "shell.execute_reply": "2021-07-01T13:36:01.994811Z",
     "shell.execute_reply.started": "2021-07-01T13:36:01.977870Z"
    }
   },
   "outputs": [
    {
     "data": {
      "text/plain": [
       "array([[ 17.  ],\n",
       "       [ 19.  ],\n",
       "       [ 25.79],\n",
       "       ...,\n",
       "       [213.62],\n",
       "       [216.99],\n",
       "       [219.87]])"
      ]
     },
     "execution_count": 8,
     "metadata": {},
     "output_type": "execute_result"
    }
   ],
   "source": [
    "#defining training set taking column 'open'\n",
    "train_set = train_ds.iloc[:,1:2].values\n",
    "train_set"
   ]
  },
  {
   "cell_type": "code",
   "execution_count": 9,
   "metadata": {
    "execution": {
     "iopub.execute_input": "2021-07-01T14:12:20.766444Z",
     "iopub.status.busy": "2021-07-01T14:12:20.766102Z",
     "iopub.status.idle": "2021-07-01T14:12:20.968275Z",
     "shell.execute_reply": "2021-07-01T14:12:20.967276Z",
     "shell.execute_reply.started": "2021-07-01T14:12:20.766414Z"
    }
   },
   "outputs": [
    {
     "data": {
      "text/plain": [
       "[<matplotlib.lines.Line2D at 0x19619b644c0>]"
      ]
     },
     "execution_count": 9,
     "metadata": {},
     "output_type": "execute_result"
    },
    {
     "data": {
      "image/png": "[encoded data removed]",
      "text/plain": [
       "<Figure size 432x288 with 1 Axes>"
      ]
     },
     "metadata": {
      "needs_background": "light"
     },
     "output_type": "display_data"
    }
   ],
   "source": [
    "plt.plot(train_set)"
   ]
  },
  {
   "cell_type": "code",
   "execution_count": 10,
   "metadata": {
    "execution": {
     "iopub.execute_input": "2021-07-01T13:36:02.002814Z",
     "iopub.status.busy": "2021-07-01T13:36:02.002211Z",
     "iopub.status.idle": "2021-07-01T13:36:02.015723Z",
     "shell.execute_reply": "2021-07-01T13:36:02.014164Z",
     "shell.execute_reply.started": "2021-07-01T13:36:02.002770Z"
    }
   },
   "outputs": [],
   "source": [
    "#applying feature scaling,Normalization is preferred in RNN\n",
    "from sklearn.preprocessing import MinMaxScaler\n",
    "sc = MinMaxScaler(feature_range = (0,1))\n",
    "scaled_train_set = sc.fit_transform(train_set)"
   ]
  },
  {
   "cell_type": "code",
   "execution_count": 11,
   "metadata": {
    "execution": {
     "iopub.execute_input": "2021-07-01T13:36:02.022671Z",
     "iopub.status.busy": "2021-07-01T13:36:02.020458Z",
     "iopub.status.idle": "2021-07-01T13:36:02.041465Z",
     "shell.execute_reply": "2021-07-01T13:36:02.040112Z",
     "shell.execute_reply.started": "2021-07-01T13:36:02.022576Z"
    }
   },
   "outputs": [],
   "source": [
    "#creating a data structure with 60 timestamps and 1 output\n",
    "x_train = []\n",
    "y_train = []\n",
    "\n",
    "#values can be changed but i got best results with 60 timestamps\n",
    "for i in range(60,len(train_set)):\n",
    "    x_train.append(scaled_train_set[i-60:i,0])\n",
    "    y_train.append(scaled_train_set[i,0])\n",
    "    \n",
    "x_train = np.array(x_train)\n",
    "y_train = np.array(y_train)"
   ]
  },
  {
   "cell_type": "markdown",
   "metadata": {},
   "source": [
    "**HERE 60 IS TAKEN BECAUSE IN ORDER FOR LSTM TO WORK WE REQUIRE SOME PRIOR KNOWLEDGE,** \n",
    "\n",
    "**HENCE FOR STOCK PRICE AT TIME (T)** \n",
    "* **WE REQUIRE KNOWLEDGE PREVIOUS 60 STOCKS** \n",
    "* **TO PREDICT THE STOCK AT TIME (T+1)**"
   ]
  },
  {
   "cell_type": "code",
   "execution_count": 12,
   "metadata": {
    "execution": {
     "iopub.execute_input": "2021-07-01T13:36:02.050083Z",
     "iopub.status.busy": "2021-07-01T13:36:02.047256Z",
     "iopub.status.idle": "2021-07-01T13:36:02.057896Z",
     "shell.execute_reply": "2021-07-01T13:36:02.056622Z",
     "shell.execute_reply.started": "2021-07-01T13:36:02.050026Z"
    }
   },
   "outputs": [],
   "source": [
    "#reshaping x_train for inputting in RNN\n",
    "#here reshape(batch_size,timesteps,input_dim)\n",
    "x_train = x_train.reshape(x_train.shape[0],x_train.shape[1],1)"
   ]
  },
  {
   "cell_type": "code",
   "execution_count": 15,
   "metadata": {
    "execution": {
     "iopub.execute_input": "2021-07-01T13:36:02.067525Z",
     "iopub.status.busy": "2021-07-01T13:36:02.064196Z",
     "iopub.status.idle": "2021-07-01T13:37:18.435308Z",
     "shell.execute_reply": "2021-07-01T13:37:18.434452Z",
     "shell.execute_reply.started": "2021-07-01T13:36:02.067419Z"
    }
   },
   "outputs": [
    {
     "name": "stdout",
     "output_type": "stream",
     "text": [
      "Epoch 1/50\n",
      "45/45 [==============================] - 4s 92ms/step - loss: 0.0298\n",
      "Epoch 2/50\n",
      "45/45 [==============================] - 5s 101ms/step - loss: 0.0070\n",
      "Epoch 3/50\n",
      "45/45 [==============================] - 5s 109ms/step - loss: 0.0060\n",
      "Epoch 4/50\n",
      "45/45 [==============================] - 5s 101ms/step - loss: 0.0057\n",
      "Epoch 5/50\n",
      "45/45 [==============================] - 5s 100ms/step - loss: 0.0053\n",
      "Epoch 6/50\n",
      "45/45 [==============================] - 4s 93ms/step - loss: 0.0052\n",
      "Epoch 7/50\n",
      "45/45 [==============================] - 4s 93ms/step - loss: 0.0044\n",
      "Epoch 8/50\n",
      "45/45 [==============================] - 4s 94ms/step - loss: 0.0047\n",
      "Epoch 9/50\n",
      "45/45 [==============================] - 5s 112ms/step - loss: 0.0038\n",
      "Epoch 10/50\n",
      "45/45 [==============================] - 4s 95ms/step - loss: 0.0040\n",
      "Epoch 11/50\n",
      "45/45 [==============================] - 4s 94ms/step - loss: 0.0043\n",
      "Epoch 12/50\n",
      "45/45 [==============================] - 4s 95ms/step - loss: 0.0041\n",
      "Epoch 13/50\n",
      "45/45 [==============================] - 4s 95ms/step - loss: 0.0039\n",
      "Epoch 14/50\n",
      "45/45 [==============================] - 4s 96ms/step - loss: 0.0036\n",
      "Epoch 15/50\n",
      "45/45 [==============================] - 4s 93ms/step - loss: 0.0036\n",
      "Epoch 16/50\n",
      "45/45 [==============================] - 4s 96ms/step - loss: 0.0043\n",
      "Epoch 17/50\n",
      "45/45 [==============================] - 4s 93ms/step - loss: 0.0031\n",
      "Epoch 18/50\n",
      "45/45 [==============================] - 4s 93ms/step - loss: 0.0036: 0s - loss\n",
      "Epoch 19/50\n",
      "45/45 [==============================] - 4s 95ms/step - loss: 0.0033\n",
      "Epoch 20/50\n",
      "45/45 [==============================] - 5s 101ms/step - loss: 0.0031\n",
      "Epoch 21/50\n",
      "45/45 [==============================] - 4s 94ms/step - loss: 0.0035\n",
      "Epoch 22/50\n",
      "45/45 [==============================] - 4s 94ms/step - loss: 0.0032\n",
      "Epoch 23/50\n",
      "45/45 [==============================] - 4s 98ms/step - loss: 0.0033\n",
      "Epoch 24/50\n",
      "45/45 [==============================] - 4s 95ms/step - loss: 0.0029\n",
      "Epoch 25/50\n",
      "45/45 [==============================] - 4s 95ms/step - loss: 0.0033\n",
      "Epoch 26/50\n",
      "45/45 [==============================] - 4s 94ms/step - loss: 0.0030: 0s - l\n",
      "Epoch 27/50\n",
      "45/45 [==============================] - 4s 98ms/step - loss: 0.0029\n",
      "Epoch 28/50\n",
      "45/45 [==============================] - 4s 94ms/step - loss: 0.0030: 0s - loss: 0.003\n",
      "Epoch 29/50\n",
      "45/45 [==============================] - 4s 94ms/step - loss: 0.0029\n",
      "Epoch 30/50\n",
      "45/45 [==============================] - 4s 94ms/step - loss: 0.0034\n",
      "Epoch 31/50\n",
      "45/45 [==============================] - 4s 98ms/step - loss: 0.0030\n",
      "Epoch 32/50\n",
      "45/45 [==============================] - 4s 94ms/step - loss: 0.0030\n",
      "Epoch 33/50\n",
      "45/45 [==============================] - 4s 99ms/step - loss: 0.0029\n",
      "Epoch 34/50\n",
      "45/45 [==============================] - 5s 103ms/step - loss: 0.0028\n",
      "Epoch 35/50\n",
      "45/45 [==============================] - 4s 98ms/step - loss: 0.0025\n",
      "Epoch 36/50\n",
      "45/45 [==============================] - 4s 94ms/step - loss: 0.0028\n",
      "Epoch 37/50\n",
      "45/45 [==============================] - 4s 94ms/step - loss: 0.0026\n",
      "Epoch 38/50\n",
      "45/45 [==============================] - 4s 97ms/step - loss: 0.0027\n",
      "Epoch 39/50\n",
      "45/45 [==============================] - 4s 94ms/step - loss: 0.0026\n",
      "Epoch 40/50\n",
      "45/45 [==============================] - 5s 105ms/step - loss: 0.0030\n",
      "Epoch 41/50\n",
      "45/45 [==============================] - 4s 97ms/step - loss: 0.0032\n",
      "Epoch 42/50\n",
      "45/45 [==============================] - 4s 93ms/step - loss: 0.0024\n",
      "Epoch 43/50\n",
      "45/45 [==============================] - 4s 92ms/step - loss: 0.0023\n",
      "Epoch 44/50\n",
      "45/45 [==============================] - 4s 93ms/step - loss: 0.0027\n",
      "Epoch 45/50\n",
      "45/45 [==============================] - 4s 97ms/step - loss: 0.0022\n",
      "Epoch 46/50\n",
      "45/45 [==============================] - 4s 92ms/step - loss: 0.0024\n",
      "Epoch 47/50\n",
      "45/45 [==============================] - 4s 93ms/step - loss: 0.0025\n",
      "Epoch 48/50\n",
      "45/45 [==============================] - 4s 94ms/step - loss: 0.0022\n",
      "Epoch 49/50\n",
      "45/45 [==============================] - 4s 98ms/step - loss: 0.0022: 0s - loss: 0.002\n",
      "Epoch 50/50\n",
      "45/45 [==============================] - 4s 94ms/step - loss: 0.0025\n"
     ]
    },
    {
     "data": {
      "text/plain": [
       "<tensorflow.python.keras.callbacks.History at 0x1963721fdf0>"
      ]
     },
     "execution_count": 15,
     "metadata": {},
     "output_type": "execute_result"
    }
   ],
   "source": [
    "#building the RNN\n",
    "rnn = keras.models.Sequential()\n",
    "\n",
    "#adding first layer of LSTM\n",
    "rnn.add(keras.layers.LSTM(units = 50,return_sequences = True,input_shape = (x_train.shape[1],1)))\n",
    "rnn.add(keras.layers.Dropout(0.2))\n",
    "\n",
    "#adding second layer of LSTM\n",
    "rnn.add(keras.layers.LSTM(units = 50,return_sequences = True))\n",
    "rnn.add(keras.layers.Dropout(0.2))\n",
    "\n",
    "#adding third layer of LSTM\n",
    "rnn.add(keras.layers.LSTM(units = 50,return_sequences = True))\n",
    "rnn.add(keras.layers.Dropout(0.2))\n",
    "\n",
    "#adding fourth layer of LSTM\n",
    "rnn.add(keras.layers.LSTM(units = 50))\n",
    "rnn.add(keras.layers.Dropout(0.2))\n",
    "        \n",
    "#adding output layer of LSTM\n",
    "rnn.add(keras.layers.Dense(units = 1))\n",
    "\n",
    "#compiling the model\n",
    "rnn.compile(optimizer = 'adam', loss = 'mean_squared_error')\n",
    "        \n",
    "#training the model\n",
    "rnn.fit(x_train, y_train, epochs = 50, batch_size = 32)"
   ]
  },
  {
   "cell_type": "code",
   "execution_count": 16,
   "metadata": {
    "execution": {
     "iopub.execute_input": "2021-07-01T14:52:12.413103Z",
     "iopub.status.busy": "2021-07-01T14:52:12.412750Z",
     "iopub.status.idle": "2021-07-01T14:52:12.418632Z",
     "shell.execute_reply": "2021-07-01T14:52:12.417059Z",
     "shell.execute_reply.started": "2021-07-01T14:52:12.413073Z"
    }
   },
   "outputs": [],
   "source": [
    "#defining y_test(actual values)\n",
    "y_test = test_ds.iloc[:,1:2].values"
   ]
  },
  {
   "cell_type": "code",
   "execution_count": 17,
   "metadata": {
    "execution": {
     "iopub.execute_input": "2021-07-01T14:50:13.265194Z",
     "iopub.status.busy": "2021-07-01T14:50:13.264829Z",
     "iopub.status.idle": "2021-07-01T14:50:13.275745Z",
     "shell.execute_reply": "2021-07-01T14:50:13.274056Z",
     "shell.execute_reply.started": "2021-07-01T14:50:13.265162Z"
    }
   },
   "outputs": [],
   "source": [
    "#inputs contain 60 previous values of the first element of test_ds\n",
    "#bcause for prediction of first values of test_ds we need 60 prior values\n",
    "ds_total = pd.concat((train_ds[\"Open\"], test_ds[\"Open\"]), axis = 0)\n",
    "inputs = ds_total[(len(ds_total) - len(test_ds) - 60):].values\n",
    "inputs = inputs.reshape(-1,1)\n",
    "inputs = sc.transform(inputs)"
   ]
  },
  {
   "cell_type": "code",
   "execution_count": 18,
   "metadata": {
    "execution": {
     "iopub.execute_input": "2021-07-01T15:01:30.296059Z",
     "iopub.status.busy": "2021-07-01T15:01:30.295677Z",
     "iopub.status.idle": "2021-07-01T15:01:30.303870Z",
     "shell.execute_reply": "2021-07-01T15:01:30.302467Z",
     "shell.execute_reply.started": "2021-07-01T15:01:30.296027Z"
    }
   },
   "outputs": [],
   "source": [
    "#creating a x_test \n",
    "x_test = []\n",
    "\n",
    "for i in range(60,432):\n",
    "    x_test.append(inputs[i-60:i,0])\n",
    "    \n",
    "x_test = np.array(x_test)"
   ]
  },
  {
   "cell_type": "code",
   "execution_count": 19,
   "metadata": {
    "execution": {
     "iopub.execute_input": "2021-07-01T14:53:43.806891Z",
     "iopub.status.busy": "2021-07-01T14:53:43.806436Z",
     "iopub.status.idle": "2021-07-01T14:53:43.930069Z",
     "shell.execute_reply": "2021-07-01T14:53:43.929007Z",
     "shell.execute_reply.started": "2021-07-01T14:53:43.806835Z"
    }
   },
   "outputs": [],
   "source": [
    "#reshaping x_test for prediction\n",
    "#here reshape(batch_size,timesteps,input_dim)\n",
    "x_test = x_test.reshape(x_test.shape[0],x_test.shape[1],1)\n",
    "y_pred = rnn.predict(x_test)\n",
    "y_pred = sc.inverse_transform(y_pred)"
   ]
  },
  {
   "cell_type": "code",
   "execution_count": 20,
   "metadata": {
    "execution": {
     "iopub.execute_input": "2021-07-01T15:02:35.789095Z",
     "iopub.status.busy": "2021-07-01T15:02:35.788691Z",
     "iopub.status.idle": "2021-07-01T15:02:36.019148Z",
     "shell.execute_reply": "2021-07-01T15:02:36.018021Z",
     "shell.execute_reply.started": "2021-07-01T15:02:35.789064Z"
    }
   },
   "outputs": [
    {
     "data": {
      "image/png": "[encoded data removed]",
      "text/plain": [
       "<Figure size 432x288 with 1 Axes>"
      ]
     },
     "metadata": {
      "needs_background": "light"
     },
     "output_type": "display_data"
    }
   ],
   "source": [
    "plt.plot(y_test, color = 'red', label = 'Real Stock Price')\n",
    "plt.plot(y_pred, color = 'blue', label = 'Predicted Stock Price')\n",
    "plt.title('Tesla Stock Price Prediction')\n",
    "plt.xlabel('Time')\n",
    "plt.ylabel('Stock Price')\n",
    "plt.legend()\n",
    "plt.show()"
   ]
  },
  {
   "cell_type": "code",
   "execution_count": null,
   "metadata": {},
   "outputs": [],
   "source": []
  }
 ],
 "metadata": {
  "kernelspec": {
   "display_name": "Python 3",
   "language": "python",
   "name": "python3"
  },
  "language_info": {
   "codemirror_mode": {
    "name": "ipython",
    "version": 3
   },
   "file_extension": ".py",
   "mimetype": "text/x-python",
   "name": "python",
   "nbconvert_exporter": "python",
   "pygments_lexer": "ipython3",
   "version": "3.8.5"
  }
 },
 "nbformat": 4,
 "nbformat_minor": 4
}
